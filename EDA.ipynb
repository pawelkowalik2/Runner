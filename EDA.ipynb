{
 "cells": [
  {
   "cell_type": "markdown",
   "id": "f54a8830",
   "metadata": {},
   "source": [
    "# Eksploracyjna Analiza Danych"
   ]
  },
  {
   "cell_type": "markdown",
   "id": "4e19c803",
   "metadata": {},
   "source": [
    "### Krok 1 - zapoznanie z danymi"
   ]
  },
  {
   "cell_type": "code",
   "execution_count": 62,
   "id": "698e2008",
   "metadata": {},
   "outputs": [],
   "source": [
    "import os\n",
    "import glob\n",
    "import pandas as pd\n",
    "pd.options.display.max_columns = None\n",
    "pd.options.display.max_info_columns = 200\n",
    "\n",
    "current_path = os.getcwd()\n",
    "data_path = os.path.join(current_path, \"data\")\n",
    "raw_data_path = os.path.join(data_path, 'raw')\n",
    "modified_data_path = os.path.join(data_path, 'modified')\n",
    "csv_files = glob.glob(os.path.join(raw_data_path, '*.csv'))\n",
    "\n"
   ]
  },
  {
   "cell_type": "code",
   "execution_count": 63,
   "id": "9181b777",
   "metadata": {},
   "outputs": [],
   "source": [
    "combined_df = pd.DataFrame()\n",
    "\n",
    "\n",
    "for csv_file in csv_files:\n",
    "    current_df = pd.read_csv(csv_file, sep=\";\")    \n",
    "    combined_df = pd.concat([combined_df, current_df], ignore_index=True)"
   ]
  },
  {
   "cell_type": "code",
   "execution_count": 64,
   "id": "3daa8ae7",
   "metadata": {},
   "outputs": [
    {
     "data": {
      "text/html": [
       "<div>\n",
       "<style scoped>\n",
       "    .dataframe tbody tr th:only-of-type {\n",
       "        vertical-align: middle;\n",
       "    }\n",
       "\n",
       "    .dataframe tbody tr th {\n",
       "        vertical-align: top;\n",
       "    }\n",
       "\n",
       "    .dataframe thead th {\n",
       "        text-align: right;\n",
       "    }\n",
       "</style>\n",
       "<table border=\"1\" class=\"dataframe\">\n",
       "  <thead>\n",
       "    <tr style=\"text-align: right;\">\n",
       "      <th></th>\n",
       "      <th>Miejsce</th>\n",
       "      <th>Numer startowy</th>\n",
       "      <th>Imię</th>\n",
       "      <th>Nazwisko</th>\n",
       "      <th>Miasto</th>\n",
       "      <th>Kraj</th>\n",
       "      <th>Drużyna</th>\n",
       "      <th>Płeć</th>\n",
       "      <th>Płeć Miejsce</th>\n",
       "      <th>Kategoria wiekowa</th>\n",
       "      <th>Kategoria wiekowa Miejsce</th>\n",
       "      <th>Rocznik</th>\n",
       "      <th>5 km Czas</th>\n",
       "      <th>5 km Miejsce Open</th>\n",
       "      <th>5 km Tempo</th>\n",
       "      <th>10 km Czas</th>\n",
       "      <th>10 km Miejsce Open</th>\n",
       "      <th>10 km Tempo</th>\n",
       "      <th>15 km Czas</th>\n",
       "      <th>15 km Miejsce Open</th>\n",
       "      <th>15 km Tempo</th>\n",
       "      <th>20 km Czas</th>\n",
       "      <th>20 km Miejsce Open</th>\n",
       "      <th>20 km Tempo</th>\n",
       "      <th>Tempo Stabilność</th>\n",
       "      <th>Czas</th>\n",
       "      <th>Tempo</th>\n",
       "    </tr>\n",
       "  </thead>\n",
       "  <tbody>\n",
       "    <tr>\n",
       "      <th>6205</th>\n",
       "      <td>6206.0</td>\n",
       "      <td>2484</td>\n",
       "      <td>KRZYSZTOF</td>\n",
       "      <td>WARECHOWICZ</td>\n",
       "      <td>WROCŁAW</td>\n",
       "      <td>POL</td>\n",
       "      <td>HTTPS:CORPO.GURU</td>\n",
       "      <td>M</td>\n",
       "      <td>4819.0</td>\n",
       "      <td>M40</td>\n",
       "      <td>1692.0</td>\n",
       "      <td>1983.0</td>\n",
       "      <td>00:29:16</td>\n",
       "      <td>5615.0</td>\n",
       "      <td>5.853333</td>\n",
       "      <td>00:58:57</td>\n",
       "      <td>5698.0</td>\n",
       "      <td>5.936667</td>\n",
       "      <td>01:30:43</td>\n",
       "      <td>5803.0</td>\n",
       "      <td>6.353333</td>\n",
       "      <td>02:08:47</td>\n",
       "      <td>6191.0</td>\n",
       "      <td>7.613333</td>\n",
       "      <td>0.113933</td>\n",
       "      <td>02:15:25</td>\n",
       "      <td>6.419373</td>\n",
       "    </tr>\n",
       "    <tr>\n",
       "      <th>8579</th>\n",
       "      <td>NaN</td>\n",
       "      <td>4437</td>\n",
       "      <td>MACIEJ</td>\n",
       "      <td>MAZUR</td>\n",
       "      <td>NaN</td>\n",
       "      <td>NaN</td>\n",
       "      <td>NaN</td>\n",
       "      <td>M</td>\n",
       "      <td>NaN</td>\n",
       "      <td>M20</td>\n",
       "      <td>NaN</td>\n",
       "      <td>1996.0</td>\n",
       "      <td>NaN</td>\n",
       "      <td>NaN</td>\n",
       "      <td>NaN</td>\n",
       "      <td>NaN</td>\n",
       "      <td>NaN</td>\n",
       "      <td>NaN</td>\n",
       "      <td>NaN</td>\n",
       "      <td>NaN</td>\n",
       "      <td>NaN</td>\n",
       "      <td>NaN</td>\n",
       "      <td>NaN</td>\n",
       "      <td>NaN</td>\n",
       "      <td>NaN</td>\n",
       "      <td>DNS</td>\n",
       "      <td>NaN</td>\n",
       "    </tr>\n",
       "    <tr>\n",
       "      <th>11353</th>\n",
       "      <td>2404.0</td>\n",
       "      <td>6315</td>\n",
       "      <td>MAGDALENA</td>\n",
       "      <td>PATRO</td>\n",
       "      <td>ŁEKNO</td>\n",
       "      <td>POL</td>\n",
       "      <td>NaN</td>\n",
       "      <td>K</td>\n",
       "      <td>231.0</td>\n",
       "      <td>K20</td>\n",
       "      <td>60.0</td>\n",
       "      <td>1999.0</td>\n",
       "      <td>00:26:08</td>\n",
       "      <td>3185.0</td>\n",
       "      <td>5.226667</td>\n",
       "      <td>00:51:40</td>\n",
       "      <td>3143.0</td>\n",
       "      <td>5.106667</td>\n",
       "      <td>01:17:45</td>\n",
       "      <td>2890.0</td>\n",
       "      <td>5.216667</td>\n",
       "      <td>01:43:38</td>\n",
       "      <td>2529.0</td>\n",
       "      <td>5.176667</td>\n",
       "      <td>-0.000800</td>\n",
       "      <td>01:49:08</td>\n",
       "      <td>5.173422</td>\n",
       "    </tr>\n",
       "    <tr>\n",
       "      <th>19819</th>\n",
       "      <td>NaN</td>\n",
       "      <td>22390</td>\n",
       "      <td>BARBARA</td>\n",
       "      <td>GNIATCZYK</td>\n",
       "      <td>NaN</td>\n",
       "      <td>NaN</td>\n",
       "      <td>NaN</td>\n",
       "      <td>K</td>\n",
       "      <td>NaN</td>\n",
       "      <td>K50</td>\n",
       "      <td>NaN</td>\n",
       "      <td>1972.0</td>\n",
       "      <td>NaN</td>\n",
       "      <td>NaN</td>\n",
       "      <td>NaN</td>\n",
       "      <td>NaN</td>\n",
       "      <td>NaN</td>\n",
       "      <td>NaN</td>\n",
       "      <td>NaN</td>\n",
       "      <td>NaN</td>\n",
       "      <td>NaN</td>\n",
       "      <td>NaN</td>\n",
       "      <td>NaN</td>\n",
       "      <td>NaN</td>\n",
       "      <td>NaN</td>\n",
       "      <td>NaN</td>\n",
       "      <td>NaN</td>\n",
       "    </tr>\n",
       "    <tr>\n",
       "      <th>12695</th>\n",
       "      <td>3746.0</td>\n",
       "      <td>1663</td>\n",
       "      <td>WIESŁAW</td>\n",
       "      <td>FABJAN</td>\n",
       "      <td>OLEŚNICA</td>\n",
       "      <td>POL</td>\n",
       "      <td>KUBISIA TEAM OLEŚNICA</td>\n",
       "      <td>M</td>\n",
       "      <td>3276.0</td>\n",
       "      <td>M60</td>\n",
       "      <td>70.0</td>\n",
       "      <td>1960.0</td>\n",
       "      <td>00:26:41</td>\n",
       "      <td>3709.0</td>\n",
       "      <td>5.336667</td>\n",
       "      <td>00:52:59</td>\n",
       "      <td>3685.0</td>\n",
       "      <td>5.260000</td>\n",
       "      <td>01:20:23</td>\n",
       "      <td>3578.0</td>\n",
       "      <td>5.480000</td>\n",
       "      <td>01:49:17</td>\n",
       "      <td>3682.0</td>\n",
       "      <td>5.780000</td>\n",
       "      <td>0.031000</td>\n",
       "      <td>01:55:58</td>\n",
       "      <td>5.497353</td>\n",
       "    </tr>\n",
       "  </tbody>\n",
       "</table>\n",
       "</div>"
      ],
      "text/plain": [
       "       Miejsce  Numer startowy       Imię     Nazwisko    Miasto Kraj  \\\n",
       "6205    6206.0            2484  KRZYSZTOF  WARECHOWICZ   WROCŁAW  POL   \n",
       "8579       NaN            4437     MACIEJ        MAZUR       NaN  NaN   \n",
       "11353   2404.0            6315  MAGDALENA        PATRO     ŁEKNO  POL   \n",
       "19819      NaN           22390    BARBARA    GNIATCZYK       NaN  NaN   \n",
       "12695   3746.0            1663    WIESŁAW       FABJAN  OLEŚNICA  POL   \n",
       "\n",
       "                     Drużyna Płeć  Płeć Miejsce Kategoria wiekowa  \\\n",
       "6205        HTTPS:CORPO.GURU    M        4819.0               M40   \n",
       "8579                     NaN    M           NaN               M20   \n",
       "11353                    NaN    K         231.0               K20   \n",
       "19819                    NaN    K           NaN               K50   \n",
       "12695  KUBISIA TEAM OLEŚNICA    M        3276.0               M60   \n",
       "\n",
       "       Kategoria wiekowa Miejsce  Rocznik 5 km Czas  5 km Miejsce Open  \\\n",
       "6205                      1692.0   1983.0  00:29:16             5615.0   \n",
       "8579                         NaN   1996.0       NaN                NaN   \n",
       "11353                       60.0   1999.0  00:26:08             3185.0   \n",
       "19819                        NaN   1972.0       NaN                NaN   \n",
       "12695                       70.0   1960.0  00:26:41             3709.0   \n",
       "\n",
       "       5 km Tempo 10 km Czas  10 km Miejsce Open  10 km Tempo 15 km Czas  \\\n",
       "6205     5.853333   00:58:57              5698.0     5.936667   01:30:43   \n",
       "8579          NaN        NaN                 NaN          NaN        NaN   \n",
       "11353    5.226667   00:51:40              3143.0     5.106667   01:17:45   \n",
       "19819         NaN        NaN                 NaN          NaN        NaN   \n",
       "12695    5.336667   00:52:59              3685.0     5.260000   01:20:23   \n",
       "\n",
       "       15 km Miejsce Open  15 km Tempo 20 km Czas  20 km Miejsce Open  \\\n",
       "6205               5803.0     6.353333   02:08:47              6191.0   \n",
       "8579                  NaN          NaN        NaN                 NaN   \n",
       "11353              2890.0     5.216667   01:43:38              2529.0   \n",
       "19819                 NaN          NaN        NaN                 NaN   \n",
       "12695              3578.0     5.480000   01:49:17              3682.0   \n",
       "\n",
       "       20 km Tempo  Tempo Stabilność      Czas     Tempo  \n",
       "6205      7.613333          0.113933  02:15:25  6.419373  \n",
       "8579           NaN               NaN       DNS       NaN  \n",
       "11353     5.176667         -0.000800  01:49:08  5.173422  \n",
       "19819          NaN               NaN       NaN       NaN  \n",
       "12695     5.780000          0.031000  01:55:58  5.497353  "
      ]
     },
     "execution_count": 64,
     "metadata": {},
     "output_type": "execute_result"
    }
   ],
   "source": [
    "combined_df.sample(5)"
   ]
  },
  {
   "cell_type": "code",
   "execution_count": 65,
   "id": "ad0bc304",
   "metadata": {},
   "outputs": [
    {
     "data": {
      "text/html": [
       "<div>\n",
       "<style scoped>\n",
       "    .dataframe tbody tr th:only-of-type {\n",
       "        vertical-align: middle;\n",
       "    }\n",
       "\n",
       "    .dataframe tbody tr th {\n",
       "        vertical-align: top;\n",
       "    }\n",
       "\n",
       "    .dataframe thead th {\n",
       "        text-align: right;\n",
       "    }\n",
       "</style>\n",
       "<table border=\"1\" class=\"dataframe\">\n",
       "  <thead>\n",
       "    <tr style=\"text-align: right;\">\n",
       "      <th></th>\n",
       "      <th>Miejsce</th>\n",
       "      <th>Numer startowy</th>\n",
       "      <th>Płeć Miejsce</th>\n",
       "      <th>Kategoria wiekowa Miejsce</th>\n",
       "      <th>Rocznik</th>\n",
       "      <th>5 km Miejsce Open</th>\n",
       "      <th>5 km Tempo</th>\n",
       "      <th>10 km Miejsce Open</th>\n",
       "      <th>10 km Tempo</th>\n",
       "      <th>15 km Miejsce Open</th>\n",
       "      <th>15 km Tempo</th>\n",
       "      <th>20 km Miejsce Open</th>\n",
       "      <th>20 km Tempo</th>\n",
       "      <th>Tempo Stabilność</th>\n",
       "      <th>Tempo</th>\n",
       "    </tr>\n",
       "  </thead>\n",
       "  <tbody>\n",
       "    <tr>\n",
       "      <th>count</th>\n",
       "      <td>18450.000000</td>\n",
       "      <td>21957.000000</td>\n",
       "      <td>18450.000000</td>\n",
       "      <td>18430.000000</td>\n",
       "      <td>21472.000000</td>\n",
       "      <td>18411.000000</td>\n",
       "      <td>18411.000000</td>\n",
       "      <td>18427.000000</td>\n",
       "      <td>18395.000000</td>\n",
       "      <td>18428.000000</td>\n",
       "      <td>18413.000000</td>\n",
       "      <td>18439.000000</td>\n",
       "      <td>18422.000000</td>\n",
       "      <td>18377.000000</td>\n",
       "      <td>18450.000000</td>\n",
       "    </tr>\n",
       "    <tr>\n",
       "      <th>mean</th>\n",
       "      <td>4675.680325</td>\n",
       "      <td>9131.001685</td>\n",
       "      <td>2741.137615</td>\n",
       "      <td>734.757352</td>\n",
       "      <td>1981.449935</td>\n",
       "      <td>4684.677638</td>\n",
       "      <td>5.586340</td>\n",
       "      <td>4681.817984</td>\n",
       "      <td>5.572067</td>\n",
       "      <td>4677.332103</td>\n",
       "      <td>5.900787</td>\n",
       "      <td>4676.539997</td>\n",
       "      <td>6.342749</td>\n",
       "      <td>0.052152</td>\n",
       "      <td>5.852857</td>\n",
       "    </tr>\n",
       "    <tr>\n",
       "      <th>std</th>\n",
       "      <td>2768.846110</td>\n",
       "      <td>14449.830643</td>\n",
       "      <td>1913.875736</td>\n",
       "      <td>590.148277</td>\n",
       "      <td>76.047837</td>\n",
       "      <td>2776.085712</td>\n",
       "      <td>0.825451</td>\n",
       "      <td>2772.998560</td>\n",
       "      <td>0.898941</td>\n",
       "      <td>2768.849902</td>\n",
       "      <td>1.012626</td>\n",
       "      <td>2769.430762</td>\n",
       "      <td>1.222979</td>\n",
       "      <td>0.047737</td>\n",
       "      <td>0.961692</td>\n",
       "    </tr>\n",
       "    <tr>\n",
       "      <th>min</th>\n",
       "      <td>1.000000</td>\n",
       "      <td>1.000000</td>\n",
       "      <td>1.000000</td>\n",
       "      <td>1.000000</td>\n",
       "      <td>0.000000</td>\n",
       "      <td>1.000000</td>\n",
       "      <td>0.000000</td>\n",
       "      <td>1.000000</td>\n",
       "      <td>2.920000</td>\n",
       "      <td>1.000000</td>\n",
       "      <td>3.083333</td>\n",
       "      <td>1.000000</td>\n",
       "      <td>3.086667</td>\n",
       "      <td>-0.345333</td>\n",
       "      <td>3.036265</td>\n",
       "    </tr>\n",
       "    <tr>\n",
       "      <th>25%</th>\n",
       "      <td>2307.000000</td>\n",
       "      <td>2994.000000</td>\n",
       "      <td>1154.000000</td>\n",
       "      <td>251.000000</td>\n",
       "      <td>1978.000000</td>\n",
       "      <td>2311.500000</td>\n",
       "      <td>5.016667</td>\n",
       "      <td>2309.000000</td>\n",
       "      <td>4.940000</td>\n",
       "      <td>2309.000000</td>\n",
       "      <td>5.193333</td>\n",
       "      <td>2308.000000</td>\n",
       "      <td>5.490000</td>\n",
       "      <td>0.020533</td>\n",
       "      <td>5.178952</td>\n",
       "    </tr>\n",
       "    <tr>\n",
       "      <th>50%</th>\n",
       "      <td>4613.000000</td>\n",
       "      <td>5847.000000</td>\n",
       "      <td>2307.000000</td>\n",
       "      <td>589.000000</td>\n",
       "      <td>1985.000000</td>\n",
       "      <td>4619.000000</td>\n",
       "      <td>5.543333</td>\n",
       "      <td>4617.000000</td>\n",
       "      <td>5.486667</td>\n",
       "      <td>4613.500000</td>\n",
       "      <td>5.766667</td>\n",
       "      <td>4614.000000</td>\n",
       "      <td>6.140000</td>\n",
       "      <td>0.041867</td>\n",
       "      <td>5.732796</td>\n",
       "    </tr>\n",
       "    <tr>\n",
       "      <th>75%</th>\n",
       "      <td>6919.000000</td>\n",
       "      <td>8771.000000</td>\n",
       "      <td>4227.750000</td>\n",
       "      <td>1071.750000</td>\n",
       "      <td>1992.000000</td>\n",
       "      <td>6927.000000</td>\n",
       "      <td>6.125000</td>\n",
       "      <td>6927.000000</td>\n",
       "      <td>6.110000</td>\n",
       "      <td>6920.250000</td>\n",
       "      <td>6.503333</td>\n",
       "      <td>6919.500000</td>\n",
       "      <td>7.020000</td>\n",
       "      <td>0.073333</td>\n",
       "      <td>6.442087</td>\n",
       "    </tr>\n",
       "    <tr>\n",
       "      <th>max</th>\n",
       "      <td>10302.000000</td>\n",
       "      <td>86990.000000</td>\n",
       "      <td>7240.000000</td>\n",
       "      <td>2388.000000</td>\n",
       "      <td>2006.000000</td>\n",
       "      <td>10353.000000</td>\n",
       "      <td>12.750000</td>\n",
       "      <td>10330.000000</td>\n",
       "      <td>11.346667</td>\n",
       "      <td>10305.000000</td>\n",
       "      <td>11.213333</td>\n",
       "      <td>10306.000000</td>\n",
       "      <td>14.940000</td>\n",
       "      <td>0.629533</td>\n",
       "      <td>10.076637</td>\n",
       "    </tr>\n",
       "  </tbody>\n",
       "</table>\n",
       "</div>"
      ],
      "text/plain": [
       "            Miejsce  Numer startowy  Płeć Miejsce  Kategoria wiekowa Miejsce  \\\n",
       "count  18450.000000    21957.000000  18450.000000               18430.000000   \n",
       "mean    4675.680325     9131.001685   2741.137615                 734.757352   \n",
       "std     2768.846110    14449.830643   1913.875736                 590.148277   \n",
       "min        1.000000        1.000000      1.000000                   1.000000   \n",
       "25%     2307.000000     2994.000000   1154.000000                 251.000000   \n",
       "50%     4613.000000     5847.000000   2307.000000                 589.000000   \n",
       "75%     6919.000000     8771.000000   4227.750000                1071.750000   \n",
       "max    10302.000000    86990.000000   7240.000000                2388.000000   \n",
       "\n",
       "            Rocznik  5 km Miejsce Open    5 km Tempo  10 km Miejsce Open  \\\n",
       "count  21472.000000       18411.000000  18411.000000        18427.000000   \n",
       "mean    1981.449935        4684.677638      5.586340         4681.817984   \n",
       "std       76.047837        2776.085712      0.825451         2772.998560   \n",
       "min        0.000000           1.000000      0.000000            1.000000   \n",
       "25%     1978.000000        2311.500000      5.016667         2309.000000   \n",
       "50%     1985.000000        4619.000000      5.543333         4617.000000   \n",
       "75%     1992.000000        6927.000000      6.125000         6927.000000   \n",
       "max     2006.000000       10353.000000     12.750000        10330.000000   \n",
       "\n",
       "        10 km Tempo  15 km Miejsce Open   15 km Tempo  20 km Miejsce Open  \\\n",
       "count  18395.000000        18428.000000  18413.000000        18439.000000   \n",
       "mean       5.572067         4677.332103      5.900787         4676.539997   \n",
       "std        0.898941         2768.849902      1.012626         2769.430762   \n",
       "min        2.920000            1.000000      3.083333            1.000000   \n",
       "25%        4.940000         2309.000000      5.193333         2308.000000   \n",
       "50%        5.486667         4613.500000      5.766667         4614.000000   \n",
       "75%        6.110000         6920.250000      6.503333         6919.500000   \n",
       "max       11.346667        10305.000000     11.213333        10306.000000   \n",
       "\n",
       "        20 km Tempo  Tempo Stabilność         Tempo  \n",
       "count  18422.000000      18377.000000  18450.000000  \n",
       "mean       6.342749          0.052152      5.852857  \n",
       "std        1.222979          0.047737      0.961692  \n",
       "min        3.086667         -0.345333      3.036265  \n",
       "25%        5.490000          0.020533      5.178952  \n",
       "50%        6.140000          0.041867      5.732796  \n",
       "75%        7.020000          0.073333      6.442087  \n",
       "max       14.940000          0.629533     10.076637  "
      ]
     },
     "execution_count": 65,
     "metadata": {},
     "output_type": "execute_result"
    }
   ],
   "source": [
    "combined_df.describe()"
   ]
  },
  {
   "cell_type": "code",
   "execution_count": 66,
   "id": "f4510e18",
   "metadata": {},
   "outputs": [
    {
     "name": "stdout",
     "output_type": "stream",
     "text": [
      "<class 'pandas.core.frame.DataFrame'>\n",
      "RangeIndex: 21957 entries, 0 to 21956\n",
      "Data columns (total 27 columns):\n",
      " #   Column                     Non-Null Count  Dtype  \n",
      "---  ------                     --------------  -----  \n",
      " 0   Miejsce                    18450 non-null  float64\n",
      " 1   Numer startowy             21957 non-null  int64  \n",
      " 2   Imię                       21957 non-null  object \n",
      " 3   Nazwisko                   21957 non-null  object \n",
      " 4   Miasto                     17774 non-null  object \n",
      " 5   Kraj                       18450 non-null  object \n",
      " 6   Drużyna                    8402 non-null   object \n",
      " 7   Płeć                       21946 non-null  object \n",
      " 8   Płeć Miejsce               18450 non-null  float64\n",
      " 9   Kategoria wiekowa          21926 non-null  object \n",
      " 10  Kategoria wiekowa Miejsce  18430 non-null  float64\n",
      " 11  Rocznik                    21472 non-null  float64\n",
      " 12  5 km Czas                  18411 non-null  object \n",
      " 13  5 km Miejsce Open          18411 non-null  float64\n",
      " 14  5 km Tempo                 18411 non-null  float64\n",
      " 15  10 km Czas                 18427 non-null  object \n",
      " 16  10 km Miejsce Open         18427 non-null  float64\n",
      " 17  10 km Tempo                18395 non-null  float64\n",
      " 18  15 km Czas                 18428 non-null  object \n",
      " 19  15 km Miejsce Open         18428 non-null  float64\n",
      " 20  15 km Tempo                18413 non-null  float64\n",
      " 21  20 km Czas                 18439 non-null  object \n",
      " 22  20 km Miejsce Open         18439 non-null  float64\n",
      " 23  20 km Tempo                18422 non-null  float64\n",
      " 24  Tempo Stabilność           18377 non-null  float64\n",
      " 25  Czas                       19902 non-null  object \n",
      " 26  Tempo                      18450 non-null  float64\n",
      "dtypes: float64(14), int64(1), object(12)\n",
      "memory usage: 4.5+ MB\n"
     ]
    }
   ],
   "source": [
    "combined_df.info(max_cols=None, show_counts=True)"
   ]
  },
  {
   "cell_type": "code",
   "execution_count": 67,
   "id": "e7b8903b",
   "metadata": {},
   "outputs": [
    {
     "data": {
      "text/plain": [
       "Płeć\n",
       "M    15339\n",
       "K     6607\n",
       "Name: count, dtype: int64"
      ]
     },
     "execution_count": 67,
     "metadata": {},
     "output_type": "execute_result"
    }
   ],
   "source": [
    "combined_df[\"Płeć\"].value_counts()"
   ]
  },
  {
   "cell_type": "code",
   "execution_count": 68,
   "id": "1dafa4e2",
   "metadata": {},
   "outputs": [
    {
     "data": {
      "text/plain": [
       "Miejsce                       3507\n",
       "Numer startowy                   0\n",
       "Imię                             0\n",
       "Nazwisko                         0\n",
       "Miasto                        4183\n",
       "Kraj                          3507\n",
       "Drużyna                      13555\n",
       "Płeć                            11\n",
       "Płeć Miejsce                  3507\n",
       "Kategoria wiekowa               31\n",
       "Kategoria wiekowa Miejsce     3527\n",
       "Rocznik                        485\n",
       "5 km Czas                     3546\n",
       "5 km Miejsce Open             3546\n",
       "5 km Tempo                    3546\n",
       "10 km Czas                    3530\n",
       "10 km Miejsce Open            3530\n",
       "10 km Tempo                   3562\n",
       "15 km Czas                    3529\n",
       "15 km Miejsce Open            3529\n",
       "15 km Tempo                   3544\n",
       "20 km Czas                    3518\n",
       "20 km Miejsce Open            3518\n",
       "20 km Tempo                   3535\n",
       "Tempo Stabilność              3580\n",
       "Czas                          2055\n",
       "Tempo                         3507\n",
       "dtype: int64"
      ]
     },
     "execution_count": 68,
     "metadata": {},
     "output_type": "execute_result"
    }
   ],
   "source": [
    "combined_df.isna().sum()"
   ]
  },
  {
   "cell_type": "code",
   "execution_count": 69,
   "id": "1d77cd8c",
   "metadata": {},
   "outputs": [
    {
     "data": {
      "text/plain": [
       "Miejsce                      15.972127\n",
       "Numer startowy                0.000000\n",
       "Imię                          0.000000\n",
       "Nazwisko                      0.000000\n",
       "Miasto                       19.050872\n",
       "Kraj                         15.972127\n",
       "Drużyna                      61.734299\n",
       "Płeć                          0.050098\n",
       "Płeć Miejsce                 15.972127\n",
       "Kategoria wiekowa             0.141185\n",
       "Kategoria wiekowa Miejsce    16.063214\n",
       "Rocznik                       2.208863\n",
       "5 km Czas                    16.149747\n",
       "5 km Miejsce Open            16.149747\n",
       "5 km Tempo                   16.149747\n",
       "10 km Czas                   16.076878\n",
       "10 km Miejsce Open           16.076878\n",
       "10 km Tempo                  16.222617\n",
       "15 km Czas                   16.072323\n",
       "15 km Miejsce Open           16.072323\n",
       "15 km Tempo                  16.140639\n",
       "20 km Czas                   16.022225\n",
       "20 km Miejsce Open           16.022225\n",
       "20 km Tempo                  16.099649\n",
       "Tempo Stabilność             16.304595\n",
       "Czas                          9.359202\n",
       "Tempo                        15.972127\n",
       "dtype: float64"
      ]
     },
     "execution_count": 69,
     "metadata": {},
     "output_type": "execute_result"
    }
   ],
   "source": [
    "combined_df.isna().mean()*100 #procentowo"
   ]
  },
  {
   "cell_type": "code",
   "execution_count": 70,
   "id": "858eee37",
   "metadata": {},
   "outputs": [
    {
     "data": {
      "text/plain": [
       "83.80926356059571"
      ]
     },
     "execution_count": 70,
     "metadata": {},
     "output_type": "execute_result"
    }
   ],
   "source": [
    "# Ile procent danych zostanie po usunięciu wierszy które miały co najmniej 80% niepustych danych\n",
    "len(combined_df.dropna(thresh=(0.8*len(combined_df.columns))))/len(combined_df)*100"
   ]
  },
  {
   "cell_type": "code",
   "execution_count": 71,
   "id": "5e16658f",
   "metadata": {},
   "outputs": [
    {
     "data": {
      "text/plain": [
       "6.612925263014073"
      ]
     },
     "execution_count": 71,
     "metadata": {},
     "output_type": "execute_result"
    }
   ],
   "source": [
    "combined_df[\"Czas\"].isin([\"DNF\", \"DNS\"]).mean()*100"
   ]
  },
  {
   "cell_type": "code",
   "execution_count": 72,
   "id": "1dc2626e",
   "metadata": {},
   "outputs": [],
   "source": [
    "combined_df = combined_df.dropna(thresh=(0.8*len(combined_df.columns)))\n",
    "combined_df = combined_df[combined_df['Rocznik'] > 1800]\n",
    "combined_df[\"Czas\"] = pd.to_timedelta(combined_df[\"Czas\"]).dt.total_seconds()\n",
    "\n",
    "Q1 = combined_df[\"Czas\"].quantile(0.25)\n",
    "Q3 = combined_df[\"Czas\"].quantile(0.75)\n",
    "IQR = Q3 - Q1\n",
    "\n",
    "lower_bound = Q1 - 1.5 * IQR\n",
    "upper_bound = Q3 + 1.5 * IQR\n",
    "\n",
    "combined_df = combined_df[~((combined_df[\"Czas\"] < lower_bound) | (combined_df[\"Czas\"] > upper_bound))]"
   ]
  },
  {
   "cell_type": "code",
   "execution_count": 73,
   "id": "e50f274b",
   "metadata": {},
   "outputs": [
    {
     "data": {
      "text/plain": [
       "array([[<Axes: title={'center': 'Miejsce'}>,\n",
       "        <Axes: title={'center': 'Numer startowy'}>,\n",
       "        <Axes: title={'center': 'Płeć Miejsce'}>,\n",
       "        <Axes: title={'center': 'Kategoria wiekowa Miejsce'}>],\n",
       "       [<Axes: title={'center': 'Rocznik'}>,\n",
       "        <Axes: title={'center': '5 km Miejsce Open'}>,\n",
       "        <Axes: title={'center': '5 km Tempo'}>,\n",
       "        <Axes: title={'center': '10 km Miejsce Open'}>],\n",
       "       [<Axes: title={'center': '10 km Tempo'}>,\n",
       "        <Axes: title={'center': '15 km Miejsce Open'}>,\n",
       "        <Axes: title={'center': '15 km Tempo'}>,\n",
       "        <Axes: title={'center': '20 km Miejsce Open'}>],\n",
       "       [<Axes: title={'center': '20 km Tempo'}>,\n",
       "        <Axes: title={'center': 'Tempo Stabilność'}>,\n",
       "        <Axes: title={'center': 'Czas'}>,\n",
       "        <Axes: title={'center': 'Tempo'}>]], dtype=object)"
      ]
     },
     "execution_count": 73,
     "metadata": {},
     "output_type": "execute_result"
    },
    {
     "data": {
      "image/png": "[encoded data removed]",
      "text/plain": [
       "<Figure size 1300x1000 with 16 Axes>"
      ]
     },
     "metadata": {},
     "output_type": "display_data"
    }
   ],
   "source": [
    "combined_df.hist(figsize=(13,10))"
   ]
  },
  {
   "cell_type": "code",
   "execution_count": 74,
   "id": "a4f7895c",
   "metadata": {},
   "outputs": [
    {
     "data": {
      "application/vnd.plotly.v1+json": {
       "config": {
        "plotlyServerURL": "https://plot.ly"
       },
       "data": [
        {
         "coloraxis": "coloraxis",
         "hovertemplate": "x: %{x}<br>y: %{y}<br>color: %{z}<extra></extra>",
         "name": "0",
         "type": "heatmap",
         "x": [
          "Miejsce",
          "Numer startowy",
          "Płeć Miejsce",
          "Kategoria wiekowa Miejsce",
          "Rocznik",
          "5 km Miejsce Open",
          "5 km Tempo",
          "10 km Miejsce Open",
          "10 km Tempo",
          "15 km Miejsce Open",
          "15 km Tempo",
          "20 km Miejsce Open",
          "20 km Tempo",
          "Tempo Stabilność",
          "Czas",
          "Tempo"
         ],
         "xaxis": "x",
         "y": [
          "Miejsce",
          "Numer startowy",
          "Płeć Miejsce",
          "Kategoria wiekowa Miejsce",
          "Rocznik",
          "5 km Miejsce Open",
          "5 km Tempo",
          "10 km Miejsce Open",
          "10 km Tempo",
          "15 km Miejsce Open",
          "15 km Tempo",
          "20 km Miejsce Open",
          "20 km Tempo",
          "Tempo Stabilność",
          "Czas",
          "Tempo"
         ],
         "yaxis": "y",
         "z": [
          [
           1,
           0.5037065124326001,
           0.660182771646376,
           0.5220401049997014,
           -0.03950889882311986,
           0.9454465519766875,
           0.9198143090407026,
           0.9714057890712923,
           0.9391888697621367,
           0.9892162570117577,
           0.9516234133699235,
           0.999557324754182,
           0.8809646049461632,
           0.43121347514607306,
           0.9620117801075491,
           0.9620117801075628
          ],
          [
           0.5037065124326001,
           1,
           0.30616706309331354,
           0.24563803066053086,
           0.036156292803498476,
           0.5254463819342517,
           0.470409582340029,
           0.5215920058341477,
           0.4369590057854743,
           0.5145406560196326,
           0.4241566602045072,
           0.5062401424630801,
           0.34813675179532355,
           0.05592378525171396,
           0.433787720270375,
           0.4337877202703814
          ],
          [
           0.660182771646376,
           0.30616706309331354,
           1,
           0.7908151694149784,
           -0.09753910554623446,
           0.5938337838768697,
           0.5778298242696891,
           0.6141852333230935,
           0.5900531519104033,
           0.6345802383565188,
           0.6183268934614482,
           0.6571705365112376,
           0.6042875674901117,
           0.3552360349852677,
           0.6301915975767085,
           0.6301915975767131
          ],
          [
           0.5220401049997014,
           0.24563803066053086,
           0.7908151694149784,
           1,
           0.09519187886922297,
           0.4660060636025939,
           0.45379157639215084,
           0.4832956493984709,
           0.46305955411432004,
           0.5004925865145304,
           0.4858253771681744,
           0.5196606766054587,
           0.4747633795874799,
           0.2793964604537341,
           0.4948595839209869,
           0.4948595839209943
          ],
          [
           -0.03950889882311986,
           0.036156292803498476,
           -0.09753910554623446,
           0.09519187886922297,
           1,
           -0.031076956956202703,
           -0.04211563292189199,
           -0.03529325310793172,
           -0.058914300537017475,
           -0.03721169956354317,
           -0.054696556641799274,
           -0.037528093074479504,
           -0.058523474389493124,
           -0.04707642162874204,
           -0.056018774639047,
           -0.05601877463904362
          ],
          [
           0.9454465519766875,
           0.5254463819342517,
           0.5938337838768697,
           0.4660060636025939,
           -0.031076956956202703,
           1,
           0.9707035330847814,
           0.9903709808572838,
           0.9242310203866875,
           0.9739473284400647,
           0.8816572487086083,
           0.9503095660943693,
           0.7628832451432199,
           0.17772888340461232,
           0.9080025491443975,
           0.9080025491444037
          ],
          [
           0.9198143090407026,
           0.470409582340029,
           0.5778298242696891,
           0.45379157639215084,
           -0.04211563292189199,
           0.9707035330847814,
           1,
           0.9614738240048347,
           0.9506194689310935,
           0.9464435469135958,
           0.9039360587386961,
           0.9242176586384807,
           0.8010285787107612,
           0.20466411588547906,
           0.9352479929676363,
           0.9352479929676288
          ],
          [
           0.9714057890712923,
           0.5215920058341477,
           0.6141852333230935,
           0.4832956493984709,
           -0.03529325310793172,
           0.9903709808572838,
           0.9614738240048347,
           1,
           0.9512207319671192,
           0.9930800874875142,
           0.9155753691741901,
           0.9754932233414583,
           0.8005200263532839,
           0.24783077354916383,
           0.9340860912372543,
           0.9340860912372593
          ],
          [
           0.9391888697621367,
           0.4369590057854743,
           0.5900531519104033,
           0.46305955411432004,
           -0.058914300537017475,
           0.9242310203866875,
           0.9506194689310935,
           0.9512207319671192,
           1,
           0.9531418949662076,
           0.9607768741959365,
           0.9420950999557859,
           0.8775629979827047,
           0.3761375179301771,
           0.975054311040514,
           0.975054311040508
          ],
          [
           0.9892162570117577,
           0.5145406560196326,
           0.6345802383565188,
           0.5004925865145304,
           -0.03721169956354317,
           0.9739473284400647,
           0.9464435469135958,
           0.9930800874875142,
           0.9531418949662076,
           1,
           0.9441204365375486,
           0.9920312775498961,
           0.8362882796132582,
           0.32824810945916905,
           0.9514768456022478,
           0.9514768456022477
          ],
          [
           0.9516234133699235,
           0.4241566602045072,
           0.6183268934614482,
           0.4858253771681744,
           -0.054696556641799274,
           0.8816572487086083,
           0.9039360587386961,
           0.9155753691741901,
           0.9607768741959365,
           0.9441204365375486,
           1,
           0.9520730839001262,
           0.9306526163874461,
           0.5348313884086496,
           0.9864963769978116,
           0.986496376997802
          ],
          [
           0.999557324754182,
           0.5062401424630801,
           0.6571705365112376,
           0.5196606766054587,
           -0.037528093074479504,
           0.9503095660943693,
           0.9242176586384807,
           0.9754932233414583,
           0.9420950999557859,
           0.9920312775498961,
           0.9520730839001262,
           1,
           0.8767039658933101,
           0.41948621904611233,
           0.9615122111533418,
           0.9615122111533333
          ],
          [
           0.8809646049461632,
           0.34813675179532355,
           0.6042875674901117,
           0.4747633795874799,
           -0.058523474389493124,
           0.7628832451432199,
           0.8010285787107612,
           0.8005200263532839,
           0.8775629979827047,
           0.8362882796132582,
           0.9306526163874461,
           0.8767039658933101,
           1,
           0.7471977321428189,
           0.9486699606495711,
           0.9486699606495793
          ],
          [
           0.43121347514607306,
           0.05592378525171396,
           0.3552360349852677,
           0.2793964604537341,
           -0.04707642162874204,
           0.17772888340461232,
           0.20466411588547906,
           0.24783077354916383,
           0.3761375179301771,
           0.32824810945916905,
           0.5348313884086496,
           0.41948621904611233,
           0.7471977321428189,
           1,
           0.5187266660820657,
           0.518726666082064
          ],
          [
           0.9620117801075491,
           0.433787720270375,
           0.6301915975767085,
           0.4948595839209869,
           -0.056018774639047,
           0.9080025491443975,
           0.9352479929676363,
           0.9340860912372543,
           0.975054311040514,
           0.9514768456022478,
           0.9864963769978116,
           0.9615122111533418,
           0.9486699606495711,
           0.5187266660820657,
           1,
           1.0000000000000018
          ],
          [
           0.9620117801075628,
           0.4337877202703814,
           0.6301915975767131,
           0.4948595839209943,
           -0.05601877463904362,
           0.9080025491444037,
           0.9352479929676288,
           0.9340860912372593,
           0.975054311040508,
           0.9514768456022477,
           0.986496376997802,
           0.9615122111533333,
           0.9486699606495793,
           0.518726666082064,
           1.0000000000000018,
           1
          ]
         ]
        }
       ],
       "layout": {
        "coloraxis": {
         "colorscale": [
          [
           0,
           "#fcffa4"
          ],
          [
           0.1111111111111111,
           "#f7d13d"
          ],
          [
           0.2222222222222222,
           "#fb9b06"
          ],
          [
           0.3333333333333333,
           "#ed6925"
          ],
          [
           0.4444444444444444,
           "#cf4446"
          ],
          [
           0.5555555555555556,
           "#a52c60"
          ],
          [
           0.6666666666666666,
           "#781c6d"
          ],
          [
           0.7777777777777778,
           "#4a0c6b"
          ],
          [
           0.8888888888888888,
           "#1b0c41"
          ],
          [
           1,
           "#000004"
          ]
         ]
        },
        "height": 800,
        "margin": {
         "t": 60
        },
        "template": {
         "data": {
          "bar": [
           {
            "error_x": {
             "color": "#2a3f5f"
            },
            "error_y": {
             "color": "#2a3f5f"
            },
            "marker": {
             "line": {
              "color": "#E5ECF6",
              "width": 0.5
             },
             "pattern": {
              "fillmode": "overlay",
              "size": 10,
              "solidity": 0.2
             }
            },
            "type": "bar"
           }
          ],
          "barpolar": [
           {
            "marker": {
             "line": {
              "color": "#E5ECF6",
              "width": 0.5
             },
             "pattern": {
              "fillmode": "overlay",
              "size": 10,
              "solidity": 0.2
             }
            },
            "type": "barpolar"
           }
          ],
          "carpet": [
           {
            "aaxis": {
             "endlinecolor": "#2a3f5f",
             "gridcolor": "white",
             "linecolor": "white",
             "minorgridcolor": "white",
             "startlinecolor": "#2a3f5f"
            },
            "baxis": {
             "endlinecolor": "#2a3f5f",
             "gridcolor": "white",
             "linecolor": "white",
             "minorgridcolor": "white",
             "startlinecolor": "#2a3f5f"
            },
            "type": "carpet"
           }
          ],
          "choropleth": [
           {
            "colorbar": {
             "outlinewidth": 0,
             "ticks": ""
            },
            "type": "choropleth"
           }
          ],
          "contour": [
           {
            "colorbar": {
             "outlinewidth": 0,
             "ticks": ""
            },
            "colorscale": [
             [
              0,
              "#0d0887"
             ],
             [
              0.1111111111111111,
              "#46039f"
             ],
             [
              0.2222222222222222,
              "#7201a8"
             ],
             [
              0.3333333333333333,
              "#9c179e"
             ],
             [
              0.4444444444444444,
              "#bd3786"
             ],
             [
              0.5555555555555556,
              "#d8576b"
             ],
             [
              0.6666666666666666,
              "#ed7953"
             ],
             [
              0.7777777777777778,
              "#fb9f3a"
             ],
             [
              0.8888888888888888,
              "#fdca26"
             ],
             [
              1,
              "#f0f921"
             ]
            ],
            "type": "contour"
           }
          ],
          "contourcarpet": [
           {
            "colorbar": {
             "outlinewidth": 0,
             "ticks": ""
            },
            "type": "contourcarpet"
           }
          ],
          "heatmap": [
           {
            "colorbar": {
             "outlinewidth": 0,
             "ticks": ""
            },
            "colorscale": [
             [
              0,
              "#0d0887"
             ],
             [
              0.1111111111111111,
              "#46039f"
             ],
             [
              0.2222222222222222,
              "#7201a8"
             ],
             [
              0.3333333333333333,
              "#9c179e"
             ],
             [
              0.4444444444444444,
              "#bd3786"
             ],
             [
              0.5555555555555556,
              "#d8576b"
             ],
             [
              0.6666666666666666,
              "#ed7953"
             ],
             [
              0.7777777777777778,
              "#fb9f3a"
             ],
             [
              0.8888888888888888,
              "#fdca26"
             ],
             [
              1,
              "#f0f921"
             ]
            ],
            "type": "heatmap"
           }
          ],
          "heatmapgl": [
           {
            "colorbar": {
             "outlinewidth": 0,
             "ticks": ""
            },
            "colorscale": [
             [
              0,
              "#0d0887"
             ],
             [
              0.1111111111111111,
              "#46039f"
             ],
             [
              0.2222222222222222,
              "#7201a8"
             ],
             [
              0.3333333333333333,
              "#9c179e"
             ],
             [
              0.4444444444444444,
              "#bd3786"
             ],
             [
              0.5555555555555556,
              "#d8576b"
             ],
             [
              0.6666666666666666,
              "#ed7953"
             ],
             [
              0.7777777777777778,
              "#fb9f3a"
             ],
             [
              0.8888888888888888,
              "#fdca26"
             ],
             [
              1,
              "#f0f921"
             ]
            ],
            "type": "heatmapgl"
           }
          ],
          "histogram": [
           {
            "marker": {
             "pattern": {
              "fillmode": "overlay",
              "size": 10,
              "solidity": 0.2
             }
            },
            "type": "histogram"
           }
          ],
          "histogram2d": [
           {
            "colorbar": {
             "outlinewidth": 0,
             "ticks": ""
            },
            "colorscale": [
             [
              0,
              "#0d0887"
             ],
             [
              0.1111111111111111,
              "#46039f"
             ],
             [
              0.2222222222222222,
              "#7201a8"
             ],
             [
              0.3333333333333333,
              "#9c179e"
             ],
             [
              0.4444444444444444,
              "#bd3786"
             ],
             [
              0.5555555555555556,
              "#d8576b"
             ],
             [
              0.6666666666666666,
              "#ed7953"
             ],
             [
              0.7777777777777778,
              "#fb9f3a"
             ],
             [
              0.8888888888888888,
              "#fdca26"
             ],
             [
              1,
              "#f0f921"
             ]
            ],
            "type": "histogram2d"
           }
          ],
          "histogram2dcontour": [
           {
            "colorbar": {
             "outlinewidth": 0,
             "ticks": ""
            },
            "colorscale": [
             [
              0,
              "#0d0887"
             ],
             [
              0.1111111111111111,
              "#46039f"
             ],
             [
              0.2222222222222222,
              "#7201a8"
             ],
             [
              0.3333333333333333,
              "#9c179e"
             ],
             [
              0.4444444444444444,
              "#bd3786"
             ],
             [
              0.5555555555555556,
              "#d8576b"
             ],
             [
              0.6666666666666666,
              "#ed7953"
             ],
             [
              0.7777777777777778,
              "#fb9f3a"
             ],
             [
              0.8888888888888888,
              "#fdca26"
             ],
             [
              1,
              "#f0f921"
             ]
            ],
            "type": "histogram2dcontour"
           }
          ],
          "mesh3d": [
           {
            "colorbar": {
             "outlinewidth": 0,
             "ticks": ""
            },
            "type": "mesh3d"
           }
          ],
          "parcoords": [
           {
            "line": {
             "colorbar": {
              "outlinewidth": 0,
              "ticks": ""
             }
            },
            "type": "parcoords"
           }
          ],
          "pie": [
           {
            "automargin": true,
            "type": "pie"
           }
          ],
          "scatter": [
           {
            "fillpattern": {
             "fillmode": "overlay",
             "size": 10,
             "solidity": 0.2
            },
            "type": "scatter"
           }
          ],
          "scatter3d": [
           {
            "line": {
             "colorbar": {
              "outlinewidth": 0,
              "ticks": ""
             }
            },
            "marker": {
             "colorbar": {
              "outlinewidth": 0,
              "ticks": ""
             }
            },
            "type": "scatter3d"
           }
          ],
          "scattercarpet": [
           {
            "marker": {
             "colorbar": {
              "outlinewidth": 0,
              "ticks": ""
             }
            },
            "type": "scattercarpet"
           }
          ],
          "scattergeo": [
           {
            "marker": {
             "colorbar": {
              "outlinewidth": 0,
              "ticks": ""
             }
            },
            "type": "scattergeo"
           }
          ],
          "scattergl": [
           {
            "marker": {
             "colorbar": {
              "outlinewidth": 0,
              "ticks": ""
             }
            },
            "type": "scattergl"
           }
          ],
          "scattermapbox": [
           {
            "marker": {
             "colorbar": {
              "outlinewidth": 0,
              "ticks": ""
             }
            },
            "type": "scattermapbox"
           }
          ],
          "scatterpolar": [
           {
            "marker": {
             "colorbar": {
              "outlinewidth": 0,
              "ticks": ""
             }
            },
            "type": "scatterpolar"
           }
          ],
          "scatterpolargl": [
           {
            "marker": {
             "colorbar": {
              "outlinewidth": 0,
              "ticks": ""
             }
            },
            "type": "scatterpolargl"
           }
          ],
          "scatterternary": [
           {
            "marker": {
             "colorbar": {
              "outlinewidth": 0,
              "ticks": ""
             }
            },
            "type": "scatterternary"
           }
          ],
          "surface": [
           {
            "colorbar": {
             "outlinewidth": 0,
             "ticks": ""
            },
            "colorscale": [
             [
              0,
              "#0d0887"
             ],
             [
              0.1111111111111111,
              "#46039f"
             ],
             [
              0.2222222222222222,
              "#7201a8"
             ],
             [
              0.3333333333333333,
              "#9c179e"
             ],
             [
              0.4444444444444444,
              "#bd3786"
             ],
             [
              0.5555555555555556,
              "#d8576b"
             ],
             [
              0.6666666666666666,
              "#ed7953"
             ],
             [
              0.7777777777777778,
              "#fb9f3a"
             ],
             [
              0.8888888888888888,
              "#fdca26"
             ],
             [
              1,
              "#f0f921"
             ]
            ],
            "type": "surface"
           }
          ],
          "table": [
           {
            "cells": {
             "fill": {
              "color": "#EBF0F8"
             },
             "line": {
              "color": "white"
             }
            },
            "header": {
             "fill": {
              "color": "#C8D4E3"
             },
             "line": {
              "color": "white"
             }
            },
            "type": "table"
           }
          ]
         },
         "layout": {
          "annotationdefaults": {
           "arrowcolor": "#2a3f5f",
           "arrowhead": 0,
           "arrowwidth": 1
          },
          "autotypenumbers": "strict",
          "coloraxis": {
           "colorbar": {
            "outlinewidth": 0,
            "ticks": ""
           }
          },
          "colorscale": {
           "diverging": [
            [
             0,
             "#8e0152"
            ],
            [
             0.1,
             "#c51b7d"
            ],
            [
             0.2,
             "#de77ae"
            ],
            [
             0.3,
             "#f1b6da"
            ],
            [
             0.4,
             "#fde0ef"
            ],
            [
             0.5,
             "#f7f7f7"
            ],
            [
             0.6,
             "#e6f5d0"
            ],
            [
             0.7,
             "#b8e186"
            ],
            [
             0.8,
             "#7fbc41"
            ],
            [
             0.9,
             "#4d9221"
            ],
            [
             1,
             "#276419"
            ]
           ],
           "sequential": [
            [
             0,
             "#0d0887"
            ],
            [
             0.1111111111111111,
             "#46039f"
            ],
            [
             0.2222222222222222,
             "#7201a8"
            ],
            [
             0.3333333333333333,
             "#9c179e"
            ],
            [
             0.4444444444444444,
             "#bd3786"
            ],
            [
             0.5555555555555556,
             "#d8576b"
            ],
            [
             0.6666666666666666,
             "#ed7953"
            ],
            [
             0.7777777777777778,
             "#fb9f3a"
            ],
            [
             0.8888888888888888,
             "#fdca26"
            ],
            [
             1,
             "#f0f921"
            ]
           ],
           "sequentialminus": [
            [
             0,
             "#0d0887"
            ],
            [
             0.1111111111111111,
             "#46039f"
            ],
            [
             0.2222222222222222,
             "#7201a8"
            ],
            [
             0.3333333333333333,
             "#9c179e"
            ],
            [
             0.4444444444444444,
             "#bd3786"
            ],
            [
             0.5555555555555556,
             "#d8576b"
            ],
            [
             0.6666666666666666,
             "#ed7953"
            ],
            [
             0.7777777777777778,
             "#fb9f3a"
            ],
            [
             0.8888888888888888,
             "#fdca26"
            ],
            [
             1,
             "#f0f921"
            ]
           ]
          },
          "colorway": [
           "#636efa",
           "#EF553B",
           "#00cc96",
           "#ab63fa",
           "#FFA15A",
           "#19d3f3",
           "#FF6692",
           "#B6E880",
           "#FF97FF",
           "#FECB52"
          ],
          "font": {
           "color": "#2a3f5f"
          },
          "geo": {
           "bgcolor": "white",
           "lakecolor": "white",
           "landcolor": "#E5ECF6",
           "showlakes": true,
           "showland": true,
           "subunitcolor": "white"
          },
          "hoverlabel": {
           "align": "left"
          },
          "hovermode": "closest",
          "mapbox": {
           "style": "light"
          },
          "paper_bgcolor": "white",
          "plot_bgcolor": "#E5ECF6",
          "polar": {
           "angularaxis": {
            "gridcolor": "white",
            "linecolor": "white",
            "ticks": ""
           },
           "bgcolor": "#E5ECF6",
           "radialaxis": {
            "gridcolor": "white",
            "linecolor": "white",
            "ticks": ""
           }
          },
          "scene": {
           "xaxis": {
            "backgroundcolor": "#E5ECF6",
            "gridcolor": "white",
            "gridwidth": 2,
            "linecolor": "white",
            "showbackground": true,
            "ticks": "",
            "zerolinecolor": "white"
           },
           "yaxis": {
            "backgroundcolor": "#E5ECF6",
            "gridcolor": "white",
            "gridwidth": 2,
            "linecolor": "white",
            "showbackground": true,
            "ticks": "",
            "zerolinecolor": "white"
           },
           "zaxis": {
            "backgroundcolor": "#E5ECF6",
            "gridcolor": "white",
            "gridwidth": 2,
            "linecolor": "white",
            "showbackground": true,
            "ticks": "",
            "zerolinecolor": "white"
           }
          },
          "shapedefaults": {
           "line": {
            "color": "#2a3f5f"
           }
          },
          "ternary": {
           "aaxis": {
            "gridcolor": "white",
            "linecolor": "white",
            "ticks": ""
           },
           "baxis": {
            "gridcolor": "white",
            "linecolor": "white",
            "ticks": ""
           },
           "bgcolor": "#E5ECF6",
           "caxis": {
            "gridcolor": "white",
            "linecolor": "white",
            "ticks": ""
           }
          },
          "title": {
           "x": 0.05
          },
          "xaxis": {
           "automargin": true,
           "gridcolor": "white",
           "linecolor": "white",
           "ticks": "",
           "title": {
            "standoff": 15
           },
           "zerolinecolor": "white",
           "zerolinewidth": 2
          },
          "yaxis": {
           "automargin": true,
           "gridcolor": "white",
           "linecolor": "white",
           "ticks": "",
           "title": {
            "standoff": 15
           },
           "zerolinecolor": "white",
           "zerolinewidth": 2
          }
         }
        },
        "width": 1000,
        "xaxis": {
         "anchor": "y",
         "constrain": "domain",
         "domain": [
          0,
          1
         ],
         "scaleanchor": "y"
        },
        "yaxis": {
         "anchor": "x",
         "autorange": "reversed",
         "constrain": "domain",
         "domain": [
          0,
          1
         ]
        }
       }
      }
     },
     "metadata": {},
     "output_type": "display_data"
    }
   ],
   "source": [
    "import plotly.express as px\n",
    "\n",
    "combined_df.corr(numeric_only=True)\n",
    "\n",
    "fig = px.imshow(\n",
    "    combined_df.corr(numeric_only=True),\n",
    "    color_continuous_scale=\"Inferno_r\",\n",
    "    width=1000,\n",
    "    height=800\n",
    ")\n",
    "fig.show()"
   ]
  },
  {
   "cell_type": "code",
   "execution_count": 75,
   "id": "46291373",
   "metadata": {},
   "outputs": [
    {
     "data": {
      "text/plain": [
       "<Axes: >"
      ]
     },
     "execution_count": 75,
     "metadata": {},
     "output_type": "execute_result"
    },
    {
     "data": {
      "image/png": "[encoded data removed]",
      "text/plain": [
       "<Figure size 1500x800 with 1 Axes>"
      ]
     },
     "metadata": {},
     "output_type": "display_data"
    }
   ],
   "source": [
    "combined_df.plot.box(figsize=(15, 8), rot=90)"
   ]
  },
  {
   "cell_type": "code",
   "execution_count": 76,
   "id": "c3dc33dc",
   "metadata": {},
   "outputs": [
    {
     "data": {
      "text/html": [
       "<div>\n",
       "<style scoped>\n",
       "    .dataframe tbody tr th:only-of-type {\n",
       "        vertical-align: middle;\n",
       "    }\n",
       "\n",
       "    .dataframe tbody tr th {\n",
       "        vertical-align: top;\n",
       "    }\n",
       "\n",
       "    .dataframe thead th {\n",
       "        text-align: right;\n",
       "    }\n",
       "</style>\n",
       "<table border=\"1\" class=\"dataframe\">\n",
       "  <thead>\n",
       "    <tr style=\"text-align: right;\">\n",
       "      <th></th>\n",
       "      <th>Płeć</th>\n",
       "      <th>Rocznik</th>\n",
       "      <th>Czas</th>\n",
       "      <th>5 km Tempo</th>\n",
       "    </tr>\n",
       "  </thead>\n",
       "  <tbody>\n",
       "    <tr>\n",
       "      <th>3</th>\n",
       "      <td>M</td>\n",
       "      <td>1988.0</td>\n",
       "      <td>4216.0</td>\n",
       "      <td>3.236667</td>\n",
       "    </tr>\n",
       "    <tr>\n",
       "      <th>4</th>\n",
       "      <td>M</td>\n",
       "      <td>1995.0</td>\n",
       "      <td>4227.0</td>\n",
       "      <td>3.240000</td>\n",
       "    </tr>\n",
       "    <tr>\n",
       "      <th>5</th>\n",
       "      <td>M</td>\n",
       "      <td>1983.0</td>\n",
       "      <td>4234.0</td>\n",
       "      <td>3.230000</td>\n",
       "    </tr>\n",
       "    <tr>\n",
       "      <th>6</th>\n",
       "      <td>M</td>\n",
       "      <td>1999.0</td>\n",
       "      <td>4278.0</td>\n",
       "      <td>3.123333</td>\n",
       "    </tr>\n",
       "    <tr>\n",
       "      <th>7</th>\n",
       "      <td>M</td>\n",
       "      <td>1989.0</td>\n",
       "      <td>4302.0</td>\n",
       "      <td>3.300000</td>\n",
       "    </tr>\n",
       "    <tr>\n",
       "      <th>...</th>\n",
       "      <td>...</td>\n",
       "      <td>...</td>\n",
       "      <td>...</td>\n",
       "      <td>...</td>\n",
       "    </tr>\n",
       "    <tr>\n",
       "      <th>19092</th>\n",
       "      <td>K</td>\n",
       "      <td>1998.0</td>\n",
       "      <td>10483.0</td>\n",
       "      <td>7.130000</td>\n",
       "    </tr>\n",
       "    <tr>\n",
       "      <th>19093</th>\n",
       "      <td>M</td>\n",
       "      <td>1970.0</td>\n",
       "      <td>10486.0</td>\n",
       "      <td>7.323333</td>\n",
       "    </tr>\n",
       "    <tr>\n",
       "      <th>19094</th>\n",
       "      <td>M</td>\n",
       "      <td>1995.0</td>\n",
       "      <td>10486.0</td>\n",
       "      <td>7.323333</td>\n",
       "    </tr>\n",
       "    <tr>\n",
       "      <th>19095</th>\n",
       "      <td>K</td>\n",
       "      <td>1985.0</td>\n",
       "      <td>10492.0</td>\n",
       "      <td>7.353333</td>\n",
       "    </tr>\n",
       "    <tr>\n",
       "      <th>19096</th>\n",
       "      <td>M</td>\n",
       "      <td>1981.0</td>\n",
       "      <td>10500.0</td>\n",
       "      <td>7.563333</td>\n",
       "    </tr>\n",
       "  </tbody>\n",
       "</table>\n",
       "<p>17668 rows × 4 columns</p>\n",
       "</div>"
      ],
      "text/plain": [
       "      Płeć  Rocznik     Czas  5 km Tempo\n",
       "3        M   1988.0   4216.0    3.236667\n",
       "4        M   1995.0   4227.0    3.240000\n",
       "5        M   1983.0   4234.0    3.230000\n",
       "6        M   1999.0   4278.0    3.123333\n",
       "7        M   1989.0   4302.0    3.300000\n",
       "...    ...      ...      ...         ...\n",
       "19092    K   1998.0  10483.0    7.130000\n",
       "19093    M   1970.0  10486.0    7.323333\n",
       "19094    M   1995.0  10486.0    7.323333\n",
       "19095    K   1985.0  10492.0    7.353333\n",
       "19096    M   1981.0  10500.0    7.563333\n",
       "\n",
       "[17668 rows x 4 columns]"
      ]
     },
     "execution_count": 76,
     "metadata": {},
     "output_type": "execute_result"
    }
   ],
   "source": [
    "combined_df=combined_df[[\"Płeć\", \"Rocznik\", \"Czas\", \"5 km Tempo\"]]\n",
    "combined_df"
   ]
  },
  {
   "cell_type": "code",
   "execution_count": 77,
   "id": "8dd4a1c7",
   "metadata": {},
   "outputs": [
    {
     "data": {
      "application/vnd.plotly.v1+json": {
       "config": {
        "plotlyServerURL": "https://plot.ly"
       },
       "data": [
        {
         "coloraxis": "coloraxis",
         "hovertemplate": "x: %{x}<br>y: %{y}<br>color: %{z}<extra></extra>",
         "name": "0",
         "type": "heatmap",
         "x": [
          "Rocznik",
          "Czas",
          "5 km Tempo"
         ],
         "xaxis": "x",
         "y": [
          "Rocznik",
          "Czas",
          "5 km Tempo"
         ],
         "yaxis": "y",
         "z": [
          [
           1,
           -0.056018774639047,
           -0.04211563292189199
          ],
          [
           -0.056018774639047,
           1,
           0.9352479929676363
          ],
          [
           -0.04211563292189199,
           0.9352479929676363,
           1
          ]
         ]
        }
       ],
       "layout": {
        "coloraxis": {
         "colorscale": [
          [
           0,
           "#fcffa4"
          ],
          [
           0.1111111111111111,
           "#f7d13d"
          ],
          [
           0.2222222222222222,
           "#fb9b06"
          ],
          [
           0.3333333333333333,
           "#ed6925"
          ],
          [
           0.4444444444444444,
           "#cf4446"
          ],
          [
           0.5555555555555556,
           "#a52c60"
          ],
          [
           0.6666666666666666,
           "#781c6d"
          ],
          [
           0.7777777777777778,
           "#4a0c6b"
          ],
          [
           0.8888888888888888,
           "#1b0c41"
          ],
          [
           1,
           "#000004"
          ]
         ]
        },
        "height": 800,
        "margin": {
         "t": 60
        },
        "template": {
         "data": {
          "bar": [
           {
            "error_x": {
             "color": "#2a3f5f"
            },
            "error_y": {
             "color": "#2a3f5f"
            },
            "marker": {
             "line": {
              "color": "#E5ECF6",
              "width": 0.5
             },
             "pattern": {
              "fillmode": "overlay",
              "size": 10,
              "solidity": 0.2
             }
            },
            "type": "bar"
           }
          ],
          "barpolar": [
           {
            "marker": {
             "line": {
              "color": "#E5ECF6",
              "width": 0.5
             },
             "pattern": {
              "fillmode": "overlay",
              "size": 10,
              "solidity": 0.2
             }
            },
            "type": "barpolar"
           }
          ],
          "carpet": [
           {
            "aaxis": {
             "endlinecolor": "#2a3f5f",
             "gridcolor": "white",
             "linecolor": "white",
             "minorgridcolor": "white",
             "startlinecolor": "#2a3f5f"
            },
            "baxis": {
             "endlinecolor": "#2a3f5f",
             "gridcolor": "white",
             "linecolor": "white",
             "minorgridcolor": "white",
             "startlinecolor": "#2a3f5f"
            },
            "type": "carpet"
           }
          ],
          "choropleth": [
           {
            "colorbar": {
             "outlinewidth": 0,
             "ticks": ""
            },
            "type": "choropleth"
           }
          ],
          "contour": [
           {
            "colorbar": {
             "outlinewidth": 0,
             "ticks": ""
            },
            "colorscale": [
             [
              0,
              "#0d0887"
             ],
             [
              0.1111111111111111,
              "#46039f"
             ],
             [
              0.2222222222222222,
              "#7201a8"
             ],
             [
              0.3333333333333333,
              "#9c179e"
             ],
             [
              0.4444444444444444,
              "#bd3786"
             ],
             [
              0.5555555555555556,
              "#d8576b"
             ],
             [
              0.6666666666666666,
              "#ed7953"
             ],
             [
              0.7777777777777778,
              "#fb9f3a"
             ],
             [
              0.8888888888888888,
              "#fdca26"
             ],
             [
              1,
              "#f0f921"
             ]
            ],
            "type": "contour"
           }
          ],
          "contourcarpet": [
           {
            "colorbar": {
             "outlinewidth": 0,
             "ticks": ""
            },
            "type": "contourcarpet"
           }
          ],
          "heatmap": [
           {
            "colorbar": {
             "outlinewidth": 0,
             "ticks": ""
            },
            "colorscale": [
             [
              0,
              "#0d0887"
             ],
             [
              0.1111111111111111,
              "#46039f"
             ],
             [
              0.2222222222222222,
              "#7201a8"
             ],
             [
              0.3333333333333333,
              "#9c179e"
             ],
             [
              0.4444444444444444,
              "#bd3786"
             ],
             [
              0.5555555555555556,
              "#d8576b"
             ],
             [
              0.6666666666666666,
              "#ed7953"
             ],
             [
              0.7777777777777778,
              "#fb9f3a"
             ],
             [
              0.8888888888888888,
              "#fdca26"
             ],
             [
              1,
              "#f0f921"
             ]
            ],
            "type": "heatmap"
           }
          ],
          "heatmapgl": [
           {
            "colorbar": {
             "outlinewidth": 0,
             "ticks": ""
            },
            "colorscale": [
             [
              0,
              "#0d0887"
             ],
             [
              0.1111111111111111,
              "#46039f"
             ],
             [
              0.2222222222222222,
              "#7201a8"
             ],
             [
              0.3333333333333333,
              "#9c179e"
             ],
             [
              0.4444444444444444,
              "#bd3786"
             ],
             [
              0.5555555555555556,
              "#d8576b"
             ],
             [
              0.6666666666666666,
              "#ed7953"
             ],
             [
              0.7777777777777778,
              "#fb9f3a"
             ],
             [
              0.8888888888888888,
              "#fdca26"
             ],
             [
              1,
              "#f0f921"
             ]
            ],
            "type": "heatmapgl"
           }
          ],
          "histogram": [
           {
            "marker": {
             "pattern": {
              "fillmode": "overlay",
              "size": 10,
              "solidity": 0.2
             }
            },
            "type": "histogram"
           }
          ],
          "histogram2d": [
           {
            "colorbar": {
             "outlinewidth": 0,
             "ticks": ""
            },
            "colorscale": [
             [
              0,
              "#0d0887"
             ],
             [
              0.1111111111111111,
              "#46039f"
             ],
             [
              0.2222222222222222,
              "#7201a8"
             ],
             [
              0.3333333333333333,
              "#9c179e"
             ],
             [
              0.4444444444444444,
              "#bd3786"
             ],
             [
              0.5555555555555556,
              "#d8576b"
             ],
             [
              0.6666666666666666,
              "#ed7953"
             ],
             [
              0.7777777777777778,
              "#fb9f3a"
             ],
             [
              0.8888888888888888,
              "#fdca26"
             ],
             [
              1,
              "#f0f921"
             ]
            ],
            "type": "histogram2d"
           }
          ],
          "histogram2dcontour": [
           {
            "colorbar": {
             "outlinewidth": 0,
             "ticks": ""
            },
            "colorscale": [
             [
              0,
              "#0d0887"
             ],
             [
              0.1111111111111111,
              "#46039f"
             ],
             [
              0.2222222222222222,
              "#7201a8"
             ],
             [
              0.3333333333333333,
              "#9c179e"
             ],
             [
              0.4444444444444444,
              "#bd3786"
             ],
             [
              0.5555555555555556,
              "#d8576b"
             ],
             [
              0.6666666666666666,
              "#ed7953"
             ],
             [
              0.7777777777777778,
              "#fb9f3a"
             ],
             [
              0.8888888888888888,
              "#fdca26"
             ],
             [
              1,
              "#f0f921"
             ]
            ],
            "type": "histogram2dcontour"
           }
          ],
          "mesh3d": [
           {
            "colorbar": {
             "outlinewidth": 0,
             "ticks": ""
            },
            "type": "mesh3d"
           }
          ],
          "parcoords": [
           {
            "line": {
             "colorbar": {
              "outlinewidth": 0,
              "ticks": ""
             }
            },
            "type": "parcoords"
           }
          ],
          "pie": [
           {
            "automargin": true,
            "type": "pie"
           }
          ],
          "scatter": [
           {
            "fillpattern": {
             "fillmode": "overlay",
             "size": 10,
             "solidity": 0.2
            },
            "type": "scatter"
           }
          ],
          "scatter3d": [
           {
            "line": {
             "colorbar": {
              "outlinewidth": 0,
              "ticks": ""
             }
            },
            "marker": {
             "colorbar": {
              "outlinewidth": 0,
              "ticks": ""
             }
            },
            "type": "scatter3d"
           }
          ],
          "scattercarpet": [
           {
            "marker": {
             "colorbar": {
              "outlinewidth": 0,
              "ticks": ""
             }
            },
            "type": "scattercarpet"
           }
          ],
          "scattergeo": [
           {
            "marker": {
             "colorbar": {
              "outlinewidth": 0,
              "ticks": ""
             }
            },
            "type": "scattergeo"
           }
          ],
          "scattergl": [
           {
            "marker": {
             "colorbar": {
              "outlinewidth": 0,
              "ticks": ""
             }
            },
            "type": "scattergl"
           }
          ],
          "scattermapbox": [
           {
            "marker": {
             "colorbar": {
              "outlinewidth": 0,
              "ticks": ""
             }
            },
            "type": "scattermapbox"
           }
          ],
          "scatterpolar": [
           {
            "marker": {
             "colorbar": {
              "outlinewidth": 0,
              "ticks": ""
             }
            },
            "type": "scatterpolar"
           }
          ],
          "scatterpolargl": [
           {
            "marker": {
             "colorbar": {
              "outlinewidth": 0,
              "ticks": ""
             }
            },
            "type": "scatterpolargl"
           }
          ],
          "scatterternary": [
           {
            "marker": {
             "colorbar": {
              "outlinewidth": 0,
              "ticks": ""
             }
            },
            "type": "scatterternary"
           }
          ],
          "surface": [
           {
            "colorbar": {
             "outlinewidth": 0,
             "ticks": ""
            },
            "colorscale": [
             [
              0,
              "#0d0887"
             ],
             [
              0.1111111111111111,
              "#46039f"
             ],
             [
              0.2222222222222222,
              "#7201a8"
             ],
             [
              0.3333333333333333,
              "#9c179e"
             ],
             [
              0.4444444444444444,
              "#bd3786"
             ],
             [
              0.5555555555555556,
              "#d8576b"
             ],
             [
              0.6666666666666666,
              "#ed7953"
             ],
             [
              0.7777777777777778,
              "#fb9f3a"
             ],
             [
              0.8888888888888888,
              "#fdca26"
             ],
             [
              1,
              "#f0f921"
             ]
            ],
            "type": "surface"
           }
          ],
          "table": [
           {
            "cells": {
             "fill": {
              "color": "#EBF0F8"
             },
             "line": {
              "color": "white"
             }
            },
            "header": {
             "fill": {
              "color": "#C8D4E3"
             },
             "line": {
              "color": "white"
             }
            },
            "type": "table"
           }
          ]
         },
         "layout": {
          "annotationdefaults": {
           "arrowcolor": "#2a3f5f",
           "arrowhead": 0,
           "arrowwidth": 1
          },
          "autotypenumbers": "strict",
          "coloraxis": {
           "colorbar": {
            "outlinewidth": 0,
            "ticks": ""
           }
          },
          "colorscale": {
           "diverging": [
            [
             0,
             "#8e0152"
            ],
            [
             0.1,
             "#c51b7d"
            ],
            [
             0.2,
             "#de77ae"
            ],
            [
             0.3,
             "#f1b6da"
            ],
            [
             0.4,
             "#fde0ef"
            ],
            [
             0.5,
             "#f7f7f7"
            ],
            [
             0.6,
             "#e6f5d0"
            ],
            [
             0.7,
             "#b8e186"
            ],
            [
             0.8,
             "#7fbc41"
            ],
            [
             0.9,
             "#4d9221"
            ],
            [
             1,
             "#276419"
            ]
           ],
           "sequential": [
            [
             0,
             "#0d0887"
            ],
            [
             0.1111111111111111,
             "#46039f"
            ],
            [
             0.2222222222222222,
             "#7201a8"
            ],
            [
             0.3333333333333333,
             "#9c179e"
            ],
            [
             0.4444444444444444,
             "#bd3786"
            ],
            [
             0.5555555555555556,
             "#d8576b"
            ],
            [
             0.6666666666666666,
             "#ed7953"
            ],
            [
             0.7777777777777778,
             "#fb9f3a"
            ],
            [
             0.8888888888888888,
             "#fdca26"
            ],
            [
             1,
             "#f0f921"
            ]
           ],
           "sequentialminus": [
            [
             0,
             "#0d0887"
            ],
            [
             0.1111111111111111,
             "#46039f"
            ],
            [
             0.2222222222222222,
             "#7201a8"
            ],
            [
             0.3333333333333333,
             "#9c179e"
            ],
            [
             0.4444444444444444,
             "#bd3786"
            ],
            [
             0.5555555555555556,
             "#d8576b"
            ],
            [
             0.6666666666666666,
             "#ed7953"
            ],
            [
             0.7777777777777778,
             "#fb9f3a"
            ],
            [
             0.8888888888888888,
             "#fdca26"
            ],
            [
             1,
             "#f0f921"
            ]
           ]
          },
          "colorway": [
           "#636efa",
           "#EF553B",
           "#00cc96",
           "#ab63fa",
           "#FFA15A",
           "#19d3f3",
           "#FF6692",
           "#B6E880",
           "#FF97FF",
           "#FECB52"
          ],
          "font": {
           "color": "#2a3f5f"
          },
          "geo": {
           "bgcolor": "white",
           "lakecolor": "white",
           "landcolor": "#E5ECF6",
           "showlakes": true,
           "showland": true,
           "subunitcolor": "white"
          },
          "hoverlabel": {
           "align": "left"
          },
          "hovermode": "closest",
          "mapbox": {
           "style": "light"
          },
          "paper_bgcolor": "white",
          "plot_bgcolor": "#E5ECF6",
          "polar": {
           "angularaxis": {
            "gridcolor": "white",
            "linecolor": "white",
            "ticks": ""
           },
           "bgcolor": "#E5ECF6",
           "radialaxis": {
            "gridcolor": "white",
            "linecolor": "white",
            "ticks": ""
           }
          },
          "scene": {
           "xaxis": {
            "backgroundcolor": "#E5ECF6",
            "gridcolor": "white",
            "gridwidth": 2,
            "linecolor": "white",
            "showbackground": true,
            "ticks": "",
            "zerolinecolor": "white"
           },
           "yaxis": {
            "backgroundcolor": "#E5ECF6",
            "gridcolor": "white",
            "gridwidth": 2,
            "linecolor": "white",
            "showbackground": true,
            "ticks": "",
            "zerolinecolor": "white"
           },
           "zaxis": {
            "backgroundcolor": "#E5ECF6",
            "gridcolor": "white",
            "gridwidth": 2,
            "linecolor": "white",
            "showbackground": true,
            "ticks": "",
            "zerolinecolor": "white"
           }
          },
          "shapedefaults": {
           "line": {
            "color": "#2a3f5f"
           }
          },
          "ternary": {
           "aaxis": {
            "gridcolor": "white",
            "linecolor": "white",
            "ticks": ""
           },
           "baxis": {
            "gridcolor": "white",
            "linecolor": "white",
            "ticks": ""
           },
           "bgcolor": "#E5ECF6",
           "caxis": {
            "gridcolor": "white",
            "linecolor": "white",
            "ticks": ""
           }
          },
          "title": {
           "x": 0.05
          },
          "xaxis": {
           "automargin": true,
           "gridcolor": "white",
           "linecolor": "white",
           "ticks": "",
           "title": {
            "standoff": 15
           },
           "zerolinecolor": "white",
           "zerolinewidth": 2
          },
          "yaxis": {
           "automargin": true,
           "gridcolor": "white",
           "linecolor": "white",
           "ticks": "",
           "title": {
            "standoff": 15
           },
           "zerolinecolor": "white",
           "zerolinewidth": 2
          }
         }
        },
        "width": 1000,
        "xaxis": {
         "anchor": "y",
         "constrain": "domain",
         "domain": [
          0,
          1
         ],
         "scaleanchor": "y"
        },
        "yaxis": {
         "anchor": "x",
         "autorange": "reversed",
         "constrain": "domain",
         "domain": [
          0,
          1
         ]
        }
       }
      }
     },
     "metadata": {},
     "output_type": "display_data"
    },
    {
     "data": {
      "text/plain": [
       "<Axes: >"
      ]
     },
     "execution_count": 77,
     "metadata": {},
     "output_type": "execute_result"
    },
    {
     "data": {
      "image/png": "[encoded data removed]",
      "text/plain": [
       "<Figure size 1500x800 with 1 Axes>"
      ]
     },
     "metadata": {},
     "output_type": "display_data"
    }
   ],
   "source": [
    "combined_df.corr(numeric_only=True)\n",
    "\n",
    "fig = px.imshow(\n",
    "    combined_df.corr(numeric_only=True),\n",
    "    color_continuous_scale=\"Inferno_r\",\n",
    "    width=1000,\n",
    "    height=800\n",
    ")\n",
    "fig.show()\n",
    "\n",
    "combined_df.plot.box(figsize=(15, 8), rot=90)"
   ]
  },
  {
   "cell_type": "code",
   "execution_count": null,
   "id": "081f2fb6",
   "metadata": {},
   "outputs": [],
   "source": []
  }
 ],
 "metadata": {
  "kernelspec": {
   "display_name": "zm9",
   "language": "python",
   "name": "python3"
  },
  "language_info": {
   "codemirror_mode": {
    "name": "ipython",
    "version": 3
   },
   "file_extension": ".py",
   "mimetype": "text/x-python",
   "name": "python",
   "nbconvert_exporter": "python",
   "pygments_lexer": "ipython3",
   "version": "3.11.13"
  }
 },
 "nbformat": 4,
 "nbformat_minor": 5
}
